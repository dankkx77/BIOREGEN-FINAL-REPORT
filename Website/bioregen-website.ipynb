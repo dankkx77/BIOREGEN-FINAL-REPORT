{
 "cells": [
  {
   "cell_type": "code",
   "execution_count": 18,
   "id": "06e0eab0-c4fe-403e-ac9b-425f2d99836c",
   "metadata": {},
   "outputs": [
    {
     "name": "stdin",
     "output_type": "stream",
     "text": [
      "Enter a rate constant:  3\n"
     ]
    },
    {
     "name": "stdout",
     "output_type": "stream",
     "text": [
      "Toehold ACTTATGAGC has secondary structure (Rate Constant: 2.985711261). Trying next closest...\n",
      "Selected Toehold Sequence: CTCTAAGCGC (Matched rate constant: 2.92166856)\n",
      "No secondary structure detected.\n"
     ]
    }
   ],
   "source": [
    "import nupack\n",
    "import pandas as pd\n",
    "import os\n",
    "from nupack import Strand, Complex, Model, mfe\n",
    "\n",
    "def find_closest_toehold(rate_constant, file_path):\n",
    "    \n",
    "    # Load the dataset\n",
    "    df = pd.read_csv(file_path, header=None)\n",
    "    \n",
    "    # Assign meaningful column names\n",
    "    df.columns = [\"Toehold Sequence\", \"Category\", \"Energy\", \"Rate Constant\"]\n",
    "    \n",
    "    # Sort by absolute difference in rate constant\n",
    "    df[\"Difference\"] = (df[\"Rate Constant\"] - rate_constant).abs()\n",
    "    df = df.sort_values(by=\"Difference\")\n",
    "    \n",
    "    return df\n",
    "\n",
    "def check_secondary_structure(sequence):\n",
    "    # Define the model parameters at 25°C\n",
    "    model = Model(material='dna', celsius=25)\n",
    "    \n",
    "    # Create a strand and complex\n",
    "    strand = Strand(sequence, name='input')\n",
    "    complex = Complex([strand])\n",
    "    \n",
    "    # Compute the minimum free energy (MFE) structure\n",
    "    mfe_result = mfe(complex, model=model)\n",
    "    \n",
    "    # Extract the structure\n",
    "    mfe_structure = mfe_result[0].structure\n",
    "    \n",
    "    # Convert structure to dot-parentheses notation\n",
    "    dot_parens = str(mfe_structure)\n",
    "    \n",
    "    # Check if a secondary structure forms\n",
    "    return not (dot_parens == '.' * len(sequence))\n",
    "\n",
    "# Use the relative file path (since it's inside Jupyter Notebook)\n",
    "file_path = \"mismatch_data03.csv\"\n",
    "\n",
    "user_input = float(input(\"Enter a rate constant: \"))\n",
    "df_sorted = find_closest_toehold(user_input, file_path)\n",
    "\n",
    "if df_sorted is not None:\n",
    "    for index, row in df_sorted.iterrows():\n",
    "        toehold = row[\"Toehold Sequence\"]\n",
    "        matched_rate = row[\"Rate Constant\"]\n",
    "        \n",
    "        if not check_secondary_structure(toehold):\n",
    "            print(f\"Selected Toehold Sequence: {toehold} (Matched rate constant: {matched_rate})\")\n",
    "            print(\"No secondary structure detected.\")\n",
    "            break\n",
    "        else:\n",
    "            print(f\"Toehold {toehold} has secondary structure (Rate Constant: {matched_rate}). Trying next closest...\")\n"
   ]
  },
  {
   "cell_type": "code",
   "execution_count": null,
   "id": "4c667e56-1f46-405a-b376-8ebd031ed7a1",
   "metadata": {},
   "outputs": [],
   "source": []
  },
  {
   "cell_type": "code",
   "execution_count": null,
   "id": "b5c9dfbf-07e6-4d69-8505-4b6fb341dfb6",
   "metadata": {},
   "outputs": [],
   "source": []
  }
 ],
 "metadata": {
  "kernelspec": {
   "display_name": "Python 3 (ipykernel)",
   "language": "python",
   "name": "python3"
  },
  "language_info": {
   "codemirror_mode": {
    "name": "ipython",
    "version": 3
   },
   "file_extension": ".py",
   "mimetype": "text/x-python",
   "name": "python",
   "nbconvert_exporter": "python",
   "pygments_lexer": "ipython3",
   "version": "3.12.3"
  }
 },
 "nbformat": 4,
 "nbformat_minor": 5
}
